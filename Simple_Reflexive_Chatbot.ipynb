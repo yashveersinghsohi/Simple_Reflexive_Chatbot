{
 "cells": [
  {
   "cell_type": "markdown",
   "metadata": {},
   "source": [
    "### Importing Required Packages\n",
    "In this simple chatbot, **time** module of python is imported so as to create a delay between the messages sent by the user and the ones sent by the bot. This delay mimics the real life scenario of chatting with a human and hence gives a sense of authenticity to the chatting experience. "
   ]
  },
  {
   "cell_type": "code",
   "execution_count": 1,
   "metadata": {},
   "outputs": [],
   "source": [
    "import time"
   ]
  },
  {
   "cell_type": "markdown",
   "metadata": {},
   "source": [
    "### Defining the Response function\n",
    "The function below is used to return the user's response as it is whenever the user inputs a message."
   ]
  },
  {
   "cell_type": "code",
   "execution_count": 2,
   "metadata": {},
   "outputs": [],
   "source": [
    "def bot_response(user_response):\n",
    "    return \"BOT: You said \"+user_response"
   ]
  },
  {
   "cell_type": "markdown",
   "metadata": {},
   "source": [
    "### Initiating the Chat\n",
    "In the following piece of code, the **while** loop ensures that the chat continues till the user inputs **bye**. The **sleep** module inside **time** library is utilized to induce a delay and provide a near authentic chat experience."
   ]
  },
  {
   "cell_type": "code",
   "execution_count": 3,
   "metadata": {},
   "outputs": [
    {
     "name": "stdout",
     "output_type": "stream",
     "text": [
      "Hi. This is a simple reflexive chat-bot\n",
      "\n",
      "YOU: hello\n",
      "BOT: You said hello\n",
      "\n",
      "YOU: thanks\n",
      "BOT: You are welcome..\n",
      "\n",
      "YOU: bye\n",
      "BOT: Bye! take care..\n"
     ]
    }
   ],
   "source": [
    "user_response = str()\n",
    "print(\"Hi. This is a simple reflexive chat-bot\")\n",
    "while(user_response!=\"bye\"):\n",
    "    print()\n",
    "    time.sleep(0.2)\n",
    "    user_response = input(\"YOU: \")\n",
    "    user_response = user_response.lower()\n",
    "    if(user_response!='bye'):\n",
    "        if(user_response=='thanks' or user_response=='thank you' ):\n",
    "            time.sleep(0.2)\n",
    "            print(\"BOT: You are welcome..\")\n",
    "        else:\n",
    "            time.sleep(0.2)\n",
    "            print(bot_response(user_response))\n",
    "    else:\n",
    "        time.sleep(0.2)\n",
    "        print(\"BOT: Bye! take care..\")"
   ]
  }
 ],
 "metadata": {
  "kernelspec": {
   "display_name": "Python 3",
   "language": "python",
   "name": "python3"
  },
  "language_info": {
   "codemirror_mode": {
    "name": "ipython",
    "version": 3
   },
   "file_extension": ".py",
   "mimetype": "text/x-python",
   "name": "python",
   "nbconvert_exporter": "python",
   "pygments_lexer": "ipython3",
   "version": "3.7.3"
  }
 },
 "nbformat": 4,
 "nbformat_minor": 2
}
